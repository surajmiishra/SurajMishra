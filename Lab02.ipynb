{
 "cells": [
  {
   "cell_type": "code",
   "execution_count": 1,
   "metadata": {},
   "outputs": [
    {
     "name": "stdout",
     "output_type": "stream",
     "text": [
      "Not accepted\n",
      "The Analysis for Smallest is ram and Largest is suraj\n",
      "['suraj', 'ram']\n"
     ]
    },
    {
     "data": {
      "text/plain": [
       "['suraj', 'ram']"
      ]
     },
     "execution_count": 1,
     "metadata": {},
     "output_type": "execute_result"
    }
   ],
   "source": [
    "# Define a global list to store the names\n",
    "Mainlist = []\n",
    "\n",
    "def primary():\n",
    "    # Use a global variable to access the list\n",
    "    global Mainlist\n",
    "    # Use a while loop to keep asking for names until q is entered\n",
    "    while True:\n",
    "        userinput = input(\"Enter the Name or q to quit: \")\n",
    "        if userinput == \"q\":\n",
    "            print(\"Not accepted\")\n",
    "            # Break the loop and return the list\n",
    "            break\n",
    "        # Check if the name already exists in the list\n",
    "        elif userinput in Mainlist:\n",
    "            print(\"The Name Already Exists\")\n",
    "        else:\n",
    "            # Validate the name by checking if it is alphabetic\n",
    "            tf = userinput.isalpha()\n",
    "            if tf == True:\n",
    "                # Add the name to the list\n",
    "                Mainlist.append(userinput)\n",
    "            else:\n",
    "                print(\"Enter Correct Name\")\n",
    "    # Find the smallest and largest names in the list based on length\n",
    "    smallest = min(Mainlist, key=len)\n",
    "    largest = max(Mainlist, key=len)\n",
    "    # Print the analysis and the list\n",
    "    print(\"The Analysis for Smallest is {} and Largest is {}\".format(smallest, largest))\n",
    "    print(Mainlist)\n",
    "    # Return the list\n",
    "    return Mainlist\n",
    "\n",
    "# Call the function\n",
    "primary()\n",
    "\n"
   ]
  },
  {
   "cell_type": "code",
   "execution_count": null,
   "metadata": {},
   "outputs": [],
   "source": []
  }
 ],
 "metadata": {
  "kernelspec": {
   "display_name": "Python 3",
   "language": "python",
   "name": "python3"
  },
  "language_info": {
   "codemirror_mode": {
    "name": "ipython",
    "version": 3
   },
   "file_extension": ".py",
   "mimetype": "text/x-python",
   "name": "python",
   "nbconvert_exporter": "python",
   "pygments_lexer": "ipython3",
   "version": "3.11.5"
  },
  "orig_nbformat": 4
 },
 "nbformat": 4,
 "nbformat_minor": 2
}
